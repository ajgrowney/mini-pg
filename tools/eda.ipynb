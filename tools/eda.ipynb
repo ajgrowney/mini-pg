{
 "cells": [
  {
   "cell_type": "code",
   "execution_count": 2,
   "metadata": {},
   "outputs": [],
   "source": [
    "import sqlparse\n"
   ]
  },
  {
   "cell_type": "markdown",
   "metadata": {},
   "source": [
    "## Basic Execution Planner"
   ]
  },
  {
   "cell_type": "code",
   "execution_count": 3,
   "metadata": {},
   "outputs": [],
   "source": [
    "basic_select = \"SELECT a,b,c FROM table WHERE column = 'value';\""
   ]
  },
  {
   "cell_type": "code",
   "execution_count": 4,
   "metadata": {},
   "outputs": [],
   "source": [
    "select_stmt = sqlparse.parse(basic_select)[0]"
   ]
  },
  {
   "cell_type": "code",
   "execution_count": 14,
   "metadata": {},
   "outputs": [
    {
     "name": "stdout",
     "output_type": "stream",
     "text": [
      "|- 0 DML 'SELECT'\n",
      "|- 1 Whitespace ' '\n",
      "|- 2 IdentifierList 'a,b,c'\n",
      "|  |- 0 Identifier 'a'\n",
      "|  |  `- 0 Name 'a'\n",
      "|  |- 1 Punctuation ','\n",
      "|  |- 2 Identifier 'b'\n",
      "|  |  `- 0 Name 'b'\n",
      "|  |- 3 Punctuation ','\n",
      "|  `- 4 Identifier 'c'\n",
      "|     `- 0 Name 'c'\n",
      "|- 3 Whitespace ' '\n",
      "|- 4 Keyword 'FROM'\n",
      "|- 5 Whitespace ' '\n",
      "|- 6 Keyword 'table'\n",
      "|- 7 Whitespace ' '\n",
      "`- 8 Where 'WHERE ...'\n",
      "   |- 0 Keyword 'WHERE'\n",
      "   |- 1 Whitespace ' '\n",
      "   |- 2 Keyword 'column'\n",
      "   |- 3 Whitespace ' '\n",
      "   |- 4 Comparison '='\n",
      "   |- 5 Whitespace ' '\n",
      "   |- 6 Single \"'value'\"\n",
      "   `- 7 Punctuation ';'\n"
     ]
    }
   ],
   "source": [
    "select_stmt._pprint_tree()"
   ]
  },
  {
   "cell_type": "code",
   "execution_count": 23,
   "metadata": {},
   "outputs": [
    {
     "name": "stdout",
     "output_type": "stream",
     "text": [
      "False DML SELECT\n",
      "False Whitespace  \n",
      "True IdentifierList a,b,c\n",
      "False Whitespace  \n",
      "False Keyword FROM\n",
      "False Whitespace  \n",
      "False Keyword table\n",
      "False Whitespace  \n",
      "True Where WHERE ...\n"
     ]
    }
   ],
   "source": [
    "for t in select_stmt.tokens:\n",
    "    print(t.is_group, t._get_repr_name(), t._get_repr_value())"
   ]
  },
  {
   "cell_type": "code",
   "execution_count": 16,
   "metadata": {},
   "outputs": [
    {
     "ename": "StopIteration",
     "evalue": "",
     "output_type": "error",
     "traceback": [
      "\u001b[0;31m---------------------------------------------------------------------------\u001b[0m",
      "\u001b[0;31mStopIteration\u001b[0m                             Traceback (most recent call last)",
      "Cell \u001b[0;32mIn[16], line 20\u001b[0m\n\u001b[1;32m     17\u001b[0m     \u001b[38;5;28;01mreturn\u001b[39;00m execution_plan\n\u001b[1;32m     19\u001b[0m \u001b[38;5;66;03m# Example usage\u001b[39;00m\n\u001b[0;32m---> 20\u001b[0m execution_plan \u001b[38;5;241m=\u001b[39m \u001b[43mbuild_query_execution_plan\u001b[49m\u001b[43m(\u001b[49m\u001b[43mselect_stmt\u001b[49m\u001b[43m)\u001b[49m\n\u001b[1;32m     21\u001b[0m \u001b[38;5;28mprint\u001b[39m(execution_plan)\n",
      "Cell \u001b[0;32mIn[16], line 3\u001b[0m, in \u001b[0;36mbuild_query_execution_plan\u001b[0;34m(statement)\u001b[0m\n\u001b[1;32m      1\u001b[0m \u001b[38;5;28;01mdef\u001b[39;00m\u001b[38;5;250m \u001b[39m\u001b[38;5;21mbuild_query_execution_plan\u001b[39m(statement):\n\u001b[1;32m      2\u001b[0m     \u001b[38;5;66;03m# Extract the table name from the SQL statement\u001b[39;00m\n\u001b[0;32m----> 3\u001b[0m     from_clause \u001b[38;5;241m=\u001b[39m \u001b[38;5;28;43mnext\u001b[39;49m\u001b[43m(\u001b[49m\u001b[43mtoken\u001b[49m\u001b[43m \u001b[49m\u001b[38;5;28;43;01mfor\u001b[39;49;00m\u001b[43m \u001b[49m\u001b[43mtoken\u001b[49m\u001b[43m \u001b[49m\u001b[38;5;129;43;01min\u001b[39;49;00m\u001b[43m \u001b[49m\u001b[43mstatement\u001b[49m\u001b[38;5;241;43m.\u001b[39;49m\u001b[43mtokens\u001b[49m\u001b[43m \u001b[49m\u001b[38;5;28;43;01mif\u001b[39;49;00m\u001b[43m \u001b[49m\u001b[43mtoken\u001b[49m\u001b[38;5;241;43m.\u001b[39;49m\u001b[43mttype\u001b[49m\u001b[43m \u001b[49m\u001b[38;5;129;43;01mis\u001b[39;49;00m\u001b[43m \u001b[49m\u001b[38;5;28;43;01mNone\u001b[39;49;00m\u001b[43m \u001b[49m\u001b[38;5;129;43;01mand\u001b[39;49;00m\u001b[43m \u001b[49m\u001b[43mtoken\u001b[49m\u001b[38;5;241;43m.\u001b[39;49m\u001b[43mvalue\u001b[49m\u001b[38;5;241;43m.\u001b[39;49m\u001b[43mupper\u001b[49m\u001b[43m(\u001b[49m\u001b[43m)\u001b[49m\u001b[38;5;241;43m.\u001b[39;49m\u001b[43mstartswith\u001b[49m\u001b[43m(\u001b[49m\u001b[38;5;124;43m'\u001b[39;49m\u001b[38;5;124;43mFROM\u001b[39;49m\u001b[38;5;124;43m'\u001b[39;49m\u001b[43m)\u001b[49m\u001b[43m)\u001b[49m\n\u001b[1;32m      4\u001b[0m     \u001b[38;5;28mprint\u001b[39m(from_clause)\n\u001b[1;32m      5\u001b[0m     table_name \u001b[38;5;241m=\u001b[39m from_clause\u001b[38;5;241m.\u001b[39mget_real_name()\n",
      "\u001b[0;31mStopIteration\u001b[0m: "
     ]
    }
   ],
   "source": [
    "def build_query_execution_plan(statement):\n",
    "    # Extract the table name from the SQL statement\n",
    "    from_clause = next(token for token in statement.tokens if token.ttype is None and token.value.upper().startswith('FROM'))\n",
    "    print(from_clause)\n",
    "    table_name = from_clause.get_real_name()\n",
    "    \n",
    "    # Generate the path to the table data\n",
    "    table_data_path = f\"/data/base/{table_name}.jsonl\"\n",
    "    \n",
    "    # Build the execution plan\n",
    "    execution_plan = {\n",
    "        \"table_name\": table_name,\n",
    "        \"table_data_path\": table_data_path,\n",
    "        \"query\": str(statement)\n",
    "    }\n",
    "    \n",
    "    return execution_plan\n",
    "\n",
    "# Example usage\n",
    "execution_plan = build_query_execution_plan(select_stmt)\n",
    "print(execution_plan)"
   ]
  }
 ],
 "metadata": {
  "kernelspec": {
   "display_name": "mini-pg",
   "language": "python",
   "name": "python3"
  },
  "language_info": {
   "codemirror_mode": {
    "name": "ipython",
    "version": 3
   },
   "file_extension": ".py",
   "mimetype": "text/x-python",
   "name": "python",
   "nbconvert_exporter": "python",
   "pygments_lexer": "ipython3",
   "version": "3.11.9"
  }
 },
 "nbformat": 4,
 "nbformat_minor": 2
}
